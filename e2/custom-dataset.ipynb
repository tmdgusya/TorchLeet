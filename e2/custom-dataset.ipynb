{
 "cells": [
  {
   "cell_type": "markdown",
   "metadata": {},
   "source": [
    "# Problem: Write a custom Dataset and Dataloader to load from a CSV file\n",
    "\n",
    "### Problem Statement\n",
    "You are tasked with creating a **custom Dataset** and **Dataloader** in PyTorch to load data from a given `data.csv` file. The loaded data will be used to run a pre-implemented linear regression model.\n",
    "\n",
    "### Requirements\n",
    "1. **Dataset Class**:\n",
    "   - Implement a class `CustomDataset` that:\n",
    "     - Reads data from a provided `data.csv` file.\n",
    "     - Stores the features (X) and target values (Y) separately.\n",
    "     - Implements PyTorch's `__len__` and `__getitem__` methods for indexing.\n",
    "\n",
    "2. **Dataloader**:\n",
    "   - Use PyTorch's `DataLoader` to create an iterable for batch loading the dataset.\n",
    "   - Support user-defined batch sizes and shuffling of the data."
   ]
  },
  {
   "cell_type": "code",
   "metadata": {
    "ExecuteTime": {
     "end_time": "2025-02-06T03:51:30.315954Z",
     "start_time": "2025-02-06T03:51:30.307761Z"
    }
   },
   "source": [
    "import torch\n",
    "import pandas as pd\n",
    "\n",
    "torch.manual_seed(42)\n",
    "X = torch.rand(100, 1) * 10  # 100 data points between 0 and 10\n",
    "y = 2 * X + 3 + torch.randn(100, 1)  # Linear relationship with noise\n",
    "\n",
    "# Save the generated data to data.csv\n",
    "data = torch.cat((X, y), dim=1)\n",
    "df = pd.DataFrame(data.numpy(), columns=['X', 'y'])\n",
    "df.to_csv('data.csv', index=False)\n",
    "\n",
    "df.head()"
   ],
   "outputs": [
    {
     "data": {
      "text/plain": [
       "          X          y\n",
       "0  8.822693  21.286140\n",
       "1  9.150040  21.883327\n",
       "2  3.828638  11.724202\n",
       "3  9.593057  21.735960\n",
       "4  3.904482  10.130211"
      ],
      "text/html": [
       "<div>\n",
       "<style scoped>\n",
       "    .dataframe tbody tr th:only-of-type {\n",
       "        vertical-align: middle;\n",
       "    }\n",
       "\n",
       "    .dataframe tbody tr th {\n",
       "        vertical-align: top;\n",
       "    }\n",
       "\n",
       "    .dataframe thead th {\n",
       "        text-align: right;\n",
       "    }\n",
       "</style>\n",
       "<table border=\"1\" class=\"dataframe\">\n",
       "  <thead>\n",
       "    <tr style=\"text-align: right;\">\n",
       "      <th></th>\n",
       "      <th>X</th>\n",
       "      <th>y</th>\n",
       "    </tr>\n",
       "  </thead>\n",
       "  <tbody>\n",
       "    <tr>\n",
       "      <th>0</th>\n",
       "      <td>8.822693</td>\n",
       "      <td>21.286140</td>\n",
       "    </tr>\n",
       "    <tr>\n",
       "      <th>1</th>\n",
       "      <td>9.150040</td>\n",
       "      <td>21.883327</td>\n",
       "    </tr>\n",
       "    <tr>\n",
       "      <th>2</th>\n",
       "      <td>3.828638</td>\n",
       "      <td>11.724202</td>\n",
       "    </tr>\n",
       "    <tr>\n",
       "      <th>3</th>\n",
       "      <td>9.593057</td>\n",
       "      <td>21.735960</td>\n",
       "    </tr>\n",
       "    <tr>\n",
       "      <th>4</th>\n",
       "      <td>3.904482</td>\n",
       "      <td>10.130211</td>\n",
       "    </tr>\n",
       "  </tbody>\n",
       "</table>\n",
       "</div>"
      ]
     },
     "execution_count": 5,
     "metadata": {},
     "output_type": "execute_result"
    }
   ],
   "execution_count": 5
  },
  {
   "cell_type": "code",
   "metadata": {
    "ExecuteTime": {
     "end_time": "2025-02-06T03:52:39.427517Z",
     "start_time": "2025-02-06T03:52:39.419029Z"
    }
   },
   "source": [
    "import torch\n",
    "import torch.nn as nn\n",
    "import torch.optim as optim"
   ],
   "outputs": [],
   "execution_count": 7
  },
  {
   "cell_type": "code",
   "metadata": {
    "ExecuteTime": {
     "end_time": "2025-02-06T04:02:17.440808Z",
     "start_time": "2025-02-06T04:02:17.421910Z"
    }
   },
   "source": [
    "import torch\n",
    "from torch.utils.data import Dataset, DataLoader\n",
    "import pandas as pd\n",
    "\n",
    "# TODO: Add the missing code\n",
    "class LinearRegressionDataset(Dataset):\n",
    "\n",
    "    def __init__(self, csv_filename: str):\n",
    "        df = pd.read_csv(csv_filename)\n",
    "        self.X = df.drop(columns=['y'], axis=1).to_numpy().reshape(-1, 1)\n",
    "        self.X = torch.FloatTensor(self.X)\n",
    "        self.y = df['y'].to_numpy().reshape((-1, 1))\n",
    "        self.y = torch.FloatTensor(self.y)\n",
    "        self.len = len(self.y)\n",
    "\n",
    "    def __getitem__(self, index):\n",
    "        return self.X[index], self.y[index]\n",
    "\n",
    "    def __len__(self):\n",
    "        return self.len\n",
    "\n",
    "# Example usage of the DataLoader\n",
    "dataset = LinearRegressionDataset('data.csv')\n",
    "# TODO: Add the missing code\n",
    "dataloader = DataLoader(dataset, batch_size=10, shuffle=True)\n"
   ],
   "outputs": [],
   "execution_count": 41
  },
  {
   "cell_type": "code",
   "metadata": {
    "ExecuteTime": {
     "end_time": "2025-02-06T04:02:19.446198Z",
     "start_time": "2025-02-06T04:02:18.601489Z"
    }
   },
   "source": [
    "# Define the Linear Regression Model\n",
    "class LinearRegressionModel(nn.Module):\n",
    "    def __init__(self):\n",
    "        super(LinearRegressionModel, self).__init__()\n",
    "        self.linear = nn.Linear(1, 1)  # Single input and single output\n",
    "\n",
    "    def forward(self, x):\n",
    "        return self.linear(x)\n",
    "\n",
    "# Initialize the model, loss function, and optimizer\n",
    "model = LinearRegressionModel()\n",
    "criterion = nn.MSELoss()\n",
    "optimizer = optim.SGD(model.parameters(), lr=0.01)\n",
    "\n",
    "# Training loop\n",
    "epochs = 1000\n",
    "for epoch in range(epochs):\n",
    "    for batch_X, batch_y in dataloader:\n",
    "        # Forward pass\n",
    "        predictions = model(batch_X)\n",
    "        loss = criterion(predictions, batch_y)\n",
    "\n",
    "        # Backward pass and optimization\n",
    "        optimizer.zero_grad()\n",
    "        loss.backward()\n",
    "        optimizer.step()\n",
    "\n",
    "    # Log progress every 100 epochs\n",
    "    if (epoch + 1) % 100 == 0:\n",
    "        print(f\"Epoch [{epoch + 1}/{epochs}], Loss: {loss.item():.4f}\")\n"
   ],
   "outputs": [
    {
     "name": "stdout",
     "output_type": "stream",
     "text": [
      "Epoch [100/1000], Loss: 0.3704\n",
      "Epoch [200/1000], Loss: 0.5941\n",
      "Epoch [300/1000], Loss: 1.1874\n",
      "Epoch [400/1000], Loss: 0.9480\n",
      "Epoch [500/1000], Loss: 0.8312\n",
      "Epoch [600/1000], Loss: 0.2457\n",
      "Epoch [700/1000], Loss: 0.4409\n",
      "Epoch [800/1000], Loss: 0.4503\n",
      "Epoch [900/1000], Loss: 0.5725\n",
      "Epoch [1000/1000], Loss: 0.3745\n"
     ]
    }
   ],
   "execution_count": 42
  },
  {
   "cell_type": "code",
   "metadata": {
    "ExecuteTime": {
     "end_time": "2025-02-06T04:02:21.572048Z",
     "start_time": "2025-02-06T04:02:21.568167Z"
    }
   },
   "source": [
    "# Display the learned parameters\n",
    "[w, b] = model.linear.parameters()\n",
    "print(f\"Learned weight: {w.item():.4f}, Learned bias: {b.item():.4f}\")\n",
    "\n",
    "# Testing on new data\n",
    "X_test = torch.tensor([[4.0], [7.0]])\n",
    "with torch.no_grad():\n",
    "    predictions = model(X_test)\n",
    "    print(f\"Predictions for {X_test.tolist()}: {predictions.tolist()}\")"
   ],
   "outputs": [
    {
     "name": "stdout",
     "output_type": "stream",
     "text": [
      "Learned weight: 1.9636, Learned bias: 3.2354\n",
      "Predictions for [[4.0], [7.0]]: [[11.089714050292969], [16.98044204711914]]\n"
     ]
    }
   ],
   "execution_count": 43
  }
 ],
 "metadata": {
  "kernelspec": {
   "display_name": "Python 3",
   "language": "python",
   "name": "python3"
  },
  "language_info": {
   "codemirror_mode": {
    "name": "ipython",
    "version": 3
   },
   "file_extension": ".py",
   "mimetype": "text/x-python",
   "name": "python",
   "nbconvert_exporter": "python",
   "pygments_lexer": "ipython3",
   "version": "3.10.16"
  }
 },
 "nbformat": 4,
 "nbformat_minor": 2
}
